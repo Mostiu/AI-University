{
 "cells": [
  {
   "cell_type": "code",
   "execution_count": 1,
   "id": "f16980e1-2fed-4161-ad1e-38d07cfc1c32",
   "metadata": {},
   "outputs": [],
   "source": [
    "#load needed imports\n",
    "import pandas as pd\n",
    "import datetime\n",
    "import networkx as nx\n",
    "import sys\n",
    "import time as tm\n",
    "import numpy as np"
   ]
  },
  {
   "cell_type": "code",
   "execution_count": 2,
   "id": "7c0e10da-ee2d-4b0b-84ed-f5d63dba9a8b",
   "metadata": {},
   "outputs": [],
   "source": [
    "#prepare functions and constants\n",
    "\n",
    "DAY_SECONDS = 86400\n",
    "HOUR_SECONDS = 3600 \n",
    "MINUTE_SECONDS = 60\n",
    "\n",
    "\n",
    "\n",
    "#functions below are needed to deal with time format provided in exercise's data\n",
    "def fix_time(time_str):\n",
    "    hours, minutes, seconds = map(int, time_str.split(':'))\n",
    "    hours = hours % 24\n",
    "    return f'{hours:02d}:{minutes:02d}:{seconds:02d}'\n",
    "\n",
    "def time_to_seconds(time):\n",
    "    return time.second + time.minute*60 + time.hour*3600\n",
    "\n",
    "def seconds_to_hour_and_minute(seconds):\n",
    "\treturn \"hours: \", seconds // HOUR_SECONDS,\"minutes: \", (seconds % HOUR_SECONDS) // MINUTE_SECONDS"
   ]
  },
  {
   "cell_type": "code",
   "execution_count": 3,
   "id": "0652049c-2562-475f-835a-b552f73f8a30",
   "metadata": {},
   "outputs": [
    {
     "data": {
      "text/html": [
       "<div>\n",
       "<style scoped>\n",
       "    .dataframe tbody tr th:only-of-type {\n",
       "        vertical-align: middle;\n",
       "    }\n",
       "\n",
       "    .dataframe tbody tr th {\n",
       "        vertical-align: top;\n",
       "    }\n",
       "\n",
       "    .dataframe thead th {\n",
       "        text-align: right;\n",
       "    }\n",
       "</style>\n",
       "<table border=\"1\" class=\"dataframe\">\n",
       "  <thead>\n",
       "    <tr style=\"text-align: right;\">\n",
       "      <th></th>\n",
       "      <th>Unnamed: 0</th>\n",
       "      <th>company</th>\n",
       "      <th>line</th>\n",
       "      <th>departure_time</th>\n",
       "      <th>arrival_time</th>\n",
       "      <th>start_stop</th>\n",
       "      <th>end_stop</th>\n",
       "      <th>start_stop_lat</th>\n",
       "      <th>start_stop_lon</th>\n",
       "      <th>end_stop_lat</th>\n",
       "      <th>end_stop_lon</th>\n",
       "    </tr>\n",
       "  </thead>\n",
       "  <tbody>\n",
       "    <tr>\n",
       "      <th>0</th>\n",
       "      <td>0</td>\n",
       "      <td>MPK Autobusy</td>\n",
       "      <td>A</td>\n",
       "      <td>20:52:00</td>\n",
       "      <td>20:53:00</td>\n",
       "      <td>Zajezdnia Obornicka</td>\n",
       "      <td>Paprotna</td>\n",
       "      <td>51.148737</td>\n",
       "      <td>17.021069</td>\n",
       "      <td>51.147752</td>\n",
       "      <td>17.020539</td>\n",
       "    </tr>\n",
       "    <tr>\n",
       "      <th>1</th>\n",
       "      <td>1</td>\n",
       "      <td>MPK Autobusy</td>\n",
       "      <td>A</td>\n",
       "      <td>20:53:00</td>\n",
       "      <td>20:54:00</td>\n",
       "      <td>Paprotna</td>\n",
       "      <td>Obornicka (Wołowska)</td>\n",
       "      <td>51.147752</td>\n",
       "      <td>17.020539</td>\n",
       "      <td>51.144385</td>\n",
       "      <td>17.023735</td>\n",
       "    </tr>\n",
       "    <tr>\n",
       "      <th>2</th>\n",
       "      <td>2</td>\n",
       "      <td>MPK Autobusy</td>\n",
       "      <td>A</td>\n",
       "      <td>20:54:00</td>\n",
       "      <td>20:55:00</td>\n",
       "      <td>Obornicka (Wołowska)</td>\n",
       "      <td>Bezpieczna</td>\n",
       "      <td>51.144385</td>\n",
       "      <td>17.023735</td>\n",
       "      <td>51.141360</td>\n",
       "      <td>17.026376</td>\n",
       "    </tr>\n",
       "    <tr>\n",
       "      <th>3</th>\n",
       "      <td>3</td>\n",
       "      <td>MPK Autobusy</td>\n",
       "      <td>A</td>\n",
       "      <td>20:55:00</td>\n",
       "      <td>20:57:00</td>\n",
       "      <td>Bezpieczna</td>\n",
       "      <td>Bałtycka</td>\n",
       "      <td>51.141360</td>\n",
       "      <td>17.026376</td>\n",
       "      <td>51.136632</td>\n",
       "      <td>17.030617</td>\n",
       "    </tr>\n",
       "    <tr>\n",
       "      <th>4</th>\n",
       "      <td>4</td>\n",
       "      <td>MPK Autobusy</td>\n",
       "      <td>A</td>\n",
       "      <td>20:57:00</td>\n",
       "      <td>20:59:00</td>\n",
       "      <td>Bałtycka</td>\n",
       "      <td>Broniewskiego</td>\n",
       "      <td>51.136632</td>\n",
       "      <td>17.030617</td>\n",
       "      <td>51.135851</td>\n",
       "      <td>17.037383</td>\n",
       "    </tr>\n",
       "  </tbody>\n",
       "</table>\n",
       "</div>"
      ],
      "text/plain": [
       "   Unnamed: 0       company line departure_time arrival_time  \\\n",
       "0           0  MPK Autobusy    A       20:52:00     20:53:00   \n",
       "1           1  MPK Autobusy    A       20:53:00     20:54:00   \n",
       "2           2  MPK Autobusy    A       20:54:00     20:55:00   \n",
       "3           3  MPK Autobusy    A       20:55:00     20:57:00   \n",
       "4           4  MPK Autobusy    A       20:57:00     20:59:00   \n",
       "\n",
       "             start_stop              end_stop  start_stop_lat  start_stop_lon  \\\n",
       "0   Zajezdnia Obornicka              Paprotna       51.148737       17.021069   \n",
       "1              Paprotna  Obornicka (Wołowska)       51.147752       17.020539   \n",
       "2  Obornicka (Wołowska)            Bezpieczna       51.144385       17.023735   \n",
       "3            Bezpieczna              Bałtycka       51.141360       17.026376   \n",
       "4              Bałtycka         Broniewskiego       51.136632       17.030617   \n",
       "\n",
       "   end_stop_lat  end_stop_lon  \n",
       "0     51.147752     17.020539  \n",
       "1     51.144385     17.023735  \n",
       "2     51.141360     17.026376  \n",
       "3     51.136632     17.030617  \n",
       "4     51.135851     17.037383  "
      ]
     },
     "execution_count": 3,
     "metadata": {},
     "output_type": "execute_result"
    }
   ],
   "source": [
    "#import data and first look\n",
    "df = pd.read_csv(\"connection_graph.csv\", low_memory=False)\n",
    "df.head()"
   ]
  },
  {
   "cell_type": "code",
   "execution_count": 4,
   "id": "9ec06d62-77d3-4902-8462-bbef3aef0397",
   "metadata": {},
   "outputs": [
    {
     "data": {
      "text/html": [
       "<div>\n",
       "<style scoped>\n",
       "    .dataframe tbody tr th:only-of-type {\n",
       "        vertical-align: middle;\n",
       "    }\n",
       "\n",
       "    .dataframe tbody tr th {\n",
       "        vertical-align: top;\n",
       "    }\n",
       "\n",
       "    .dataframe thead th {\n",
       "        text-align: right;\n",
       "    }\n",
       "</style>\n",
       "<table border=\"1\" class=\"dataframe\">\n",
       "  <thead>\n",
       "    <tr style=\"text-align: right;\">\n",
       "      <th></th>\n",
       "      <th>line</th>\n",
       "      <th>departure_time</th>\n",
       "      <th>arrival_time</th>\n",
       "      <th>start_stop</th>\n",
       "      <th>end_stop</th>\n",
       "      <th>start_stop_lat</th>\n",
       "      <th>start_stop_lon</th>\n",
       "      <th>end_stop_lat</th>\n",
       "      <th>end_stop_lon</th>\n",
       "      <th>departure_time_seconds</th>\n",
       "      <th>arrival_time_seconds</th>\n",
       "    </tr>\n",
       "    <tr>\n",
       "      <th>id</th>\n",
       "      <th></th>\n",
       "      <th></th>\n",
       "      <th></th>\n",
       "      <th></th>\n",
       "      <th></th>\n",
       "      <th></th>\n",
       "      <th></th>\n",
       "      <th></th>\n",
       "      <th></th>\n",
       "      <th></th>\n",
       "      <th></th>\n",
       "    </tr>\n",
       "  </thead>\n",
       "  <tbody>\n",
       "    <tr>\n",
       "      <th>0</th>\n",
       "      <td>A</td>\n",
       "      <td>20:52:00</td>\n",
       "      <td>20:53:00</td>\n",
       "      <td>Zajezdnia Obornicka</td>\n",
       "      <td>Paprotna</td>\n",
       "      <td>51.148737</td>\n",
       "      <td>17.021069</td>\n",
       "      <td>51.147752</td>\n",
       "      <td>17.020539</td>\n",
       "      <td>75120</td>\n",
       "      <td>75180</td>\n",
       "    </tr>\n",
       "    <tr>\n",
       "      <th>1</th>\n",
       "      <td>A</td>\n",
       "      <td>20:53:00</td>\n",
       "      <td>20:54:00</td>\n",
       "      <td>Paprotna</td>\n",
       "      <td>Obornicka (Wołowska)</td>\n",
       "      <td>51.147752</td>\n",
       "      <td>17.020539</td>\n",
       "      <td>51.144385</td>\n",
       "      <td>17.023735</td>\n",
       "      <td>75180</td>\n",
       "      <td>75240</td>\n",
       "    </tr>\n",
       "    <tr>\n",
       "      <th>2</th>\n",
       "      <td>A</td>\n",
       "      <td>20:54:00</td>\n",
       "      <td>20:55:00</td>\n",
       "      <td>Obornicka (Wołowska)</td>\n",
       "      <td>Bezpieczna</td>\n",
       "      <td>51.144385</td>\n",
       "      <td>17.023735</td>\n",
       "      <td>51.141360</td>\n",
       "      <td>17.026376</td>\n",
       "      <td>75240</td>\n",
       "      <td>75300</td>\n",
       "    </tr>\n",
       "    <tr>\n",
       "      <th>3</th>\n",
       "      <td>A</td>\n",
       "      <td>20:55:00</td>\n",
       "      <td>20:57:00</td>\n",
       "      <td>Bezpieczna</td>\n",
       "      <td>Bałtycka</td>\n",
       "      <td>51.141360</td>\n",
       "      <td>17.026376</td>\n",
       "      <td>51.136632</td>\n",
       "      <td>17.030617</td>\n",
       "      <td>75300</td>\n",
       "      <td>75420</td>\n",
       "    </tr>\n",
       "    <tr>\n",
       "      <th>4</th>\n",
       "      <td>A</td>\n",
       "      <td>20:57:00</td>\n",
       "      <td>20:59:00</td>\n",
       "      <td>Bałtycka</td>\n",
       "      <td>Broniewskiego</td>\n",
       "      <td>51.136632</td>\n",
       "      <td>17.030617</td>\n",
       "      <td>51.135851</td>\n",
       "      <td>17.037383</td>\n",
       "      <td>75420</td>\n",
       "      <td>75540</td>\n",
       "    </tr>\n",
       "  </tbody>\n",
       "</table>\n",
       "</div>"
      ],
      "text/plain": [
       "   line departure_time arrival_time            start_stop  \\\n",
       "id                                                          \n",
       "0     A       20:52:00     20:53:00   Zajezdnia Obornicka   \n",
       "1     A       20:53:00     20:54:00              Paprotna   \n",
       "2     A       20:54:00     20:55:00  Obornicka (Wołowska)   \n",
       "3     A       20:55:00     20:57:00            Bezpieczna   \n",
       "4     A       20:57:00     20:59:00              Bałtycka   \n",
       "\n",
       "                end_stop  start_stop_lat  start_stop_lon  end_stop_lat  \\\n",
       "id                                                                       \n",
       "0               Paprotna       51.148737       17.021069     51.147752   \n",
       "1   Obornicka (Wołowska)       51.147752       17.020539     51.144385   \n",
       "2             Bezpieczna       51.144385       17.023735     51.141360   \n",
       "3               Bałtycka       51.141360       17.026376     51.136632   \n",
       "4          Broniewskiego       51.136632       17.030617     51.135851   \n",
       "\n",
       "    end_stop_lon  departure_time_seconds  arrival_time_seconds  \n",
       "id                                                              \n",
       "0      17.020539                   75120                 75180  \n",
       "1      17.023735                   75180                 75240  \n",
       "2      17.026376                   75240                 75300  \n",
       "3      17.030617                   75300                 75420  \n",
       "4      17.037383                   75420                 75540  "
      ]
     },
     "execution_count": 4,
     "metadata": {},
     "output_type": "execute_result"
    }
   ],
   "source": [
    "#clean data\n",
    "df.rename(columns={df.columns[0]: 'del'}, inplace=True)\n",
    "\n",
    "df.drop(columns=['del','company'], inplace=True)\n",
    "df.drop_duplicates(inplace=True)\n",
    "df = df[df['start_stop'] != df['end_stop']]\n",
    "\n",
    "#fix time format\n",
    "df['departure_time'] = df['departure_time'].apply(fix_time)\n",
    "df['arrival_time'] = df['arrival_time'].apply(fix_time)\n",
    "df['departure_time'] = pd.to_datetime(df['departure_time'], format='%H:%M:%S').dt.time\n",
    "df['arrival_time'] = pd.to_datetime(df['arrival_time'], format='%H:%M:%S').dt.time\n",
    "\n",
    "#add time interpretation in seconds\n",
    "df['departure_time_seconds'] = df['departure_time'].apply(lambda x: x.second + x.minute*60 + x.hour*3600)\n",
    "df['arrival_time_seconds'] = df['arrival_time'].apply(lambda x: x.second + x.minute*60 + x.hour*3600)\n",
    "\n",
    "df['id'] = range(0, len(df))\n",
    "df.set_index('id', inplace=True)\n",
    "\n",
    "df.head()"
   ]
  },
  {
   "cell_type": "code",
   "execution_count": 5,
   "id": "76b3c58b-336d-4f62-adde-cd99a0a9e1b0",
   "metadata": {},
   "outputs": [
    {
     "name": "stdout",
     "output_type": "stream",
     "text": [
      "938\n"
     ]
    },
    {
     "data": {
      "text/html": [
       "<div>\n",
       "<style scoped>\n",
       "    .dataframe tbody tr th:only-of-type {\n",
       "        vertical-align: middle;\n",
       "    }\n",
       "\n",
       "    .dataframe tbody tr th {\n",
       "        vertical-align: top;\n",
       "    }\n",
       "\n",
       "    .dataframe thead th {\n",
       "        text-align: right;\n",
       "    }\n",
       "</style>\n",
       "<table border=\"1\" class=\"dataframe\">\n",
       "  <thead>\n",
       "    <tr style=\"text-align: right;\">\n",
       "      <th></th>\n",
       "      <th>line</th>\n",
       "      <th>departure_time</th>\n",
       "      <th>arrival_time</th>\n",
       "      <th>start_stop</th>\n",
       "      <th>end_stop</th>\n",
       "      <th>departure_time_seconds</th>\n",
       "      <th>arrival_time_seconds</th>\n",
       "    </tr>\n",
       "    <tr>\n",
       "      <th>id</th>\n",
       "      <th></th>\n",
       "      <th></th>\n",
       "      <th></th>\n",
       "      <th></th>\n",
       "      <th></th>\n",
       "      <th></th>\n",
       "      <th></th>\n",
       "    </tr>\n",
       "  </thead>\n",
       "  <tbody>\n",
       "    <tr>\n",
       "      <th>0</th>\n",
       "      <td>A</td>\n",
       "      <td>20:52:00</td>\n",
       "      <td>20:53:00</td>\n",
       "      <td>Zajezdnia Obornicka</td>\n",
       "      <td>Paprotna</td>\n",
       "      <td>75120</td>\n",
       "      <td>75180</td>\n",
       "    </tr>\n",
       "    <tr>\n",
       "      <th>1</th>\n",
       "      <td>A</td>\n",
       "      <td>20:53:00</td>\n",
       "      <td>20:54:00</td>\n",
       "      <td>Paprotna</td>\n",
       "      <td>Obornicka (Wołowska)</td>\n",
       "      <td>75180</td>\n",
       "      <td>75240</td>\n",
       "    </tr>\n",
       "    <tr>\n",
       "      <th>2</th>\n",
       "      <td>A</td>\n",
       "      <td>20:54:00</td>\n",
       "      <td>20:55:00</td>\n",
       "      <td>Obornicka (Wołowska)</td>\n",
       "      <td>Bezpieczna</td>\n",
       "      <td>75240</td>\n",
       "      <td>75300</td>\n",
       "    </tr>\n",
       "    <tr>\n",
       "      <th>3</th>\n",
       "      <td>A</td>\n",
       "      <td>20:55:00</td>\n",
       "      <td>20:57:00</td>\n",
       "      <td>Bezpieczna</td>\n",
       "      <td>Bałtycka</td>\n",
       "      <td>75300</td>\n",
       "      <td>75420</td>\n",
       "    </tr>\n",
       "    <tr>\n",
       "      <th>4</th>\n",
       "      <td>A</td>\n",
       "      <td>20:57:00</td>\n",
       "      <td>20:59:00</td>\n",
       "      <td>Bałtycka</td>\n",
       "      <td>Broniewskiego</td>\n",
       "      <td>75420</td>\n",
       "      <td>75540</td>\n",
       "    </tr>\n",
       "  </tbody>\n",
       "</table>\n",
       "</div>"
      ],
      "text/plain": [
       "   line departure_time arrival_time            start_stop  \\\n",
       "id                                                          \n",
       "0     A       20:52:00     20:53:00   Zajezdnia Obornicka   \n",
       "1     A       20:53:00     20:54:00              Paprotna   \n",
       "2     A       20:54:00     20:55:00  Obornicka (Wołowska)   \n",
       "3     A       20:55:00     20:57:00            Bezpieczna   \n",
       "4     A       20:57:00     20:59:00              Bałtycka   \n",
       "\n",
       "                end_stop  departure_time_seconds  arrival_time_seconds  \n",
       "id                                                                      \n",
       "0               Paprotna                   75120                 75180  \n",
       "1   Obornicka (Wołowska)                   75180                 75240  \n",
       "2             Bezpieczna                   75240                 75300  \n",
       "3               Bałtycka                   75300                 75420  \n",
       "4          Broniewskiego                   75420                 75540  "
      ]
     },
     "execution_count": 5,
     "metadata": {},
     "output_type": "execute_result"
    }
   ],
   "source": [
    "#now we need to prepare the list of stops we are working with, dropping the duplicates to provide data integrity\n",
    "stops = df[['start_stop', 'start_stop_lat', 'start_stop_lon']].drop_duplicates(subset=['start_stop'], keep='first').sort_values(by='start_stop')\n",
    "\n",
    "#no longer need for lat and lon info after getting stops so we need to get rid of them in main data\n",
    "\n",
    "df.drop(columns=['start_stop_lat','start_stop_lon', 'end_stop_lat','end_stop_lon'], inplace=True)\n",
    "\n",
    "print(len(stops))\n",
    "stops.head()\n",
    "df.head()\n",
    "\n"
   ]
  },
  {
   "cell_type": "code",
   "execution_count": 6,
   "id": "3c91bbac-cc92-4caa-ba4b-18b456f58e73",
   "metadata": {},
   "outputs": [
    {
     "name": "stdout",
     "output_type": "stream",
     "text": [
      "938\n",
      "[('8 Maja', {'lat': 51.11366919, 'lon': 17.09111971}), ('AUCHAN', {'lat': 51.0520648, 'lon': 16.97405354}), ('Adamczewskich', {'lat': 51.12084396, 'lon': 16.86953486}), ('Adamieckiego', {'lat': 51.07425917, 'lon': 16.96299503}), ('Aleja Architektów', {'lat': 51.13881871, 'lon': 16.92905866}), ('Aleja Pracy', {'lat': 51.0918696, 'lon': 16.98537334}), ('Aleja Wędrowców', {'lat': 51.0879861, 'lon': 16.99188243}), ('Arabska', {'lat': 51.05115765, 'lon': 17.0923256}), ('Arachidowa', {'lat': 51.15417321, 'lon': 16.89901728}), ('Arena', {'lat': 51.094134, 'lon': 17.026404})]\n"
     ]
    }
   ],
   "source": [
    "#graph creation of stops\n",
    "stop_graph = nx.DiGraph()\n",
    "\n",
    "def create_stop_nodes(conn):\n",
    "    stop_graph.add_node(conn['start_stop'], lat=conn['start_stop_lat'], lon=conn['start_stop_lon'])\n",
    "\n",
    "stops.apply(create_stop_nodes, axis=1)\n",
    "\n",
    "print(len(stop_graph.nodes))\n",
    "print(list(stop_graph.nodes.data())[None:10:None])"
   ]
  },
  {
   "cell_type": "code",
   "execution_count": 7,
   "id": "df81f9b1-b3b1-4546-963a-a5dd850a0c5d",
   "metadata": {},
   "outputs": [
    {
     "name": "stdout",
     "output_type": "stream",
     "text": [
      "{'line': '107', 'departure_time': datetime.time(7, 11), 'arrival_time': datetime.time(7, 12), 'start_stop': 'Ostrowskiego', 'end_stop': 'FAT', 'departure_time_seconds': 25860, 'arrival_time_seconds': 25920}\n"
     ]
    }
   ],
   "source": [
    "#adding edges\n",
    "def create_edges(conn):\n",
    "    if not stop_graph.has_edge(conn['start_stop'], conn['end_stop']):\n",
    "        stop_graph.add_edge(conn['start_stop'], conn['end_stop'], schedule=[])\n",
    "\n",
    "    # Append the new connection data to the schedule list\n",
    "    stop_graph[conn['start_stop']][conn['end_stop']]['schedule'].append(conn.to_dict())\n",
    "\n",
    "df.apply(create_edges, axis=1)\n",
    "\n",
    "print(stop_graph['Ostrowskiego']['FAT']['schedule'][0])"
   ]
  },
  {
   "cell_type": "code",
   "execution_count": 8,
   "id": "2a4e9471-c6f1-45ce-abf1-f0a0e3468089",
   "metadata": {},
   "outputs": [],
   "source": [
    "# Function to retrieve path\n",
    "def return_path_to_destination(start, end, line, best_routes_df):\n",
    "    path = []\n",
    "    (line_info, when, stop) = (f\"leave line: { line[end]['line']}\", line[end]['arrival_time'], f\"at: {end}\")\n",
    "    path.append((line_info, when, stop))\n",
    "    end = best_routes_df.loc['previous_stop', end]\n",
    "    current_line = line[end]['line']\n",
    "    while end != start:\n",
    "        previous_stop_info = line[best_routes_df.loc['previous_stop', end]]\n",
    "\n",
    "        if previous_stop_info is not None and previous_stop_info['line'] != current_line:\n",
    "            (line_info, when, stop) = (f\"enter line: { line[end]['line']}\", line[end]['departure_time'], f\"at: {line[end]['start_stop']}\")\n",
    "            path.append((line_info, when, stop))\n",
    "\n",
    "            tmp_stop = best_routes_df.loc['previous_stop', end]\n",
    "            (line_info, when, stop) = (f\"leave line: { line[tmp_stop]['line']}\", line[tmp_stop]['arrival_time'], f\"at: {tmp_stop}\")\n",
    "            path.append((line_info, when, stop))\n",
    "\n",
    "        future_end = best_routes_df.loc['previous_stop', end]\n",
    "\n",
    "        if future_end != start:\n",
    "            end = future_end\n",
    "            current_line = line[end]['line']\n",
    "        else:\n",
    "            (line_info, when, stop) = (f\"enter line: { line[end]['line']}\", line[end]['departure_time'], f\"at: {line[end]['start_stop']}\")\n",
    "            path.append((line_info, when, stop))\n",
    "            end = future_end\n",
    "    return path\n",
    "\n",
    "def print_path(path):\n",
    "    for i in range(len(path) - 1, -1, -1):\n",
    "        print(path[i])\n",
    "\n",
    "# Cost of travel's time\n",
    "def count_total_cost(arrival_time_seconds, start_time_seconds):\n",
    "    return (arrival_time_seconds - start_time_seconds + DAY_SECONDS) % DAY_SECONDS\n",
    "\n",
    "def min_cost(unchecked_stops, best_routes_df):\n",
    "    min_cost = best_routes_df.loc['min_cost', unchecked_stops[0]]\n",
    "    min_stop = unchecked_stops[0]\n",
    "\n",
    "    for stop in unchecked_stops:\n",
    "        if best_routes_df.loc['min_cost', stop] < min_cost:\n",
    "            min_cost = best_routes_df.loc['min_cost', stop]\n",
    "            min_stop = stop\n",
    "    return min_stop\n",
    "\n",
    "def best_connection(schedule, current_time_seconds, current_cost):\n",
    "    best_con = None\n",
    "    best_cost = float('inf')\n",
    "\n",
    "    for connection in schedule:\n",
    "        waiting_time = (connection['departure_time_seconds'] - current_time_seconds + DAY_SECONDS) % DAY_SECONDS\n",
    "        travel_time = ((connection['arrival_time_seconds'] - connection['departure_time_seconds'] + DAY_SECONDS) % DAY_SECONDS)\n",
    "        total_cost = current_cost + waiting_time + travel_time\n",
    "\n",
    "        if best_cost > total_cost:\n",
    "            best_cost = total_cost\n",
    "            best_con = connection\n",
    "\n",
    "    return (best_con, best_cost)\n"
   ]
  },
  {
   "cell_type": "code",
   "execution_count": 9,
   "id": "aded5c2a-badc-412f-8d8f-a8ef2557e75a",
   "metadata": {},
   "outputs": [],
   "source": [
    "import time as tm \n",
    "\n",
    "def dijkstra(graph, start, time):\n",
    "    algorithm_start_time = tm.time()  # Record the start time of the algorithm\n",
    "    \n",
    "    # Dictionary with the best connections for each stop\n",
    "    line = {}\n",
    "    for node in graph.nodes:\n",
    "        line[node] = None\n",
    "\n",
    "    # DataFrame with unique stops as columns, which will contain the outcome\n",
    "    best_routes_df = pd.DataFrame(columns=graph.nodes)\n",
    "    best_routes_df.loc['min_cost'] = np.inf\n",
    "    best_routes_df.loc['previous_stop'] = \"\"\n",
    "    best_routes_df.loc['arrival_time_seconds'] = None\n",
    "\n",
    "    # Setting initial values\n",
    "    current_time_seconds = time_to_seconds(time)\n",
    "    best_routes_df.loc['min_cost', start] = 0\n",
    "    best_routes_df.loc['best_arrival_time_seconds', start] = current_time_seconds\n",
    "\n",
    "    checked_stops = []\n",
    "    unchecked_stops = list(graph.nodes)\n",
    "    \n",
    "    while unchecked_stops:\n",
    "        # Find stop with minimum cost, if it's not in unchecked_stops\n",
    "        current_stop = min_cost(unchecked_stops, best_routes_df)\n",
    "\n",
    "        unchecked_stops.remove(current_stop)\n",
    "        checked_stops.append(current_stop)\n",
    "\n",
    "        current_time_seconds = best_routes_df.loc['best_arrival_time_seconds', current_stop]\n",
    "        current_cost = best_routes_df.loc['min_cost', current_stop]\n",
    "\n",
    "        for neighbor in graph.neighbors(current_stop):\n",
    "            (connection, total_cost) = best_connection(graph[current_stop][neighbor]['schedule'], current_time_seconds, current_cost)\n",
    "            if best_routes_df.loc['min_cost', neighbor] > total_cost:\n",
    "                best_routes_df.loc['min_cost', neighbor] = total_cost\n",
    "                best_routes_df.loc['previous_stop', neighbor] = current_stop\n",
    "                best_routes_df.loc['best_arrival_time_seconds', neighbor] = connection['arrival_time_seconds']\n",
    "                line[neighbor] = connection\n",
    "\n",
    "    print(\"Route found.\")\n",
    "    algorithm_duration = tm.time() - algorithm_start_time  # Calculate the algorithm's duration\n",
    "    return (line, best_routes_df, algorithm_duration)\n"
   ]
  },
  {
   "cell_type": "code",
   "execution_count": 10,
   "id": "1cf8dc62-9dc3-4b8a-9ca2-214bbcfdb4d0",
   "metadata": {},
   "outputs": [
    {
     "name": "stdout",
     "output_type": "stream",
     "text": [
      "Route found.\n",
      "('enter line: 149', datetime.time(16, 59), 'at: Babimojska')\n",
      "('leave line: 149', datetime.time(17, 25), 'at: PL. GRUNWALDZKI')\n",
      "('enter line: 19', datetime.time(17, 25), 'at: PL. GRUNWALDZKI')\n",
      "('leave line: 19', datetime.time(17, 30), 'at: ZOO')\n",
      "('enter line: 2', datetime.time(17, 31), 'at: ZOO')\n",
      "('leave line: 2', datetime.time(17, 33), 'at: Tramwajowa')\n",
      "('enter line: 4', datetime.time(17, 33), 'at: Tramwajowa')\n",
      "('leave line: 143', datetime.time(17, 38), 'at: Biegasa')\n"
     ]
    },
    {
     "name": "stderr",
     "output_type": "stream",
     "text": [
      "Koszt  ('hours: ', 0, 'minutes: ', 40)\n",
      "Czas trwania  6.032975435256958\n"
     ]
    }
   ],
   "source": [
    "import sys\n",
    "\n",
    "start = \"Babimojska\"\n",
    "stop = \"Biegasa\"\n",
    "start_time = datetime.time(16,58, 0)\n",
    "\n",
    "(line, best_routes_df,algorithm_duration) = dijkstra(stop_graph, start, start_time)\n",
    "\n",
    "path = return_path_to_destination(start, stop, line, best_routes_df)\n",
    "print_path(path)\n",
    "total_cost = count_total_cost(line[stop]['arrival_time_seconds'], time_to_seconds(start_time))\n",
    "print(\"Koszt \",seconds_to_hour_and_minute(total_cost), file=sys.stderr)\n",
    "print(\"Czas trwania \",algorithm_duration, file=sys.stderr)"
   ]
  },
  {
   "cell_type": "code",
   "execution_count": 11,
   "id": "12bc802b-49dc-4004-922b-293b94a5b25e",
   "metadata": {},
   "outputs": [
    {
     "name": "stdout",
     "output_type": "stream",
     "text": [
      "Route found.\n",
      "('enter line: 106', datetime.time(10, 29), 'at: PORT LOTNICZY')\n",
      "('leave line: 106', datetime.time(10, 42), 'at: MIŃSKA (Rondo Rotm. Pileckiego)')\n",
      "('enter line: 122', datetime.time(10, 42), 'at: MIŃSKA (Rondo Rotm. Pileckiego)')\n",
      "('leave line: 122', datetime.time(10, 46), 'at: Strzegomska (krzyżówka)')\n",
      "('enter line: 23', datetime.time(10, 47), 'at: Strzegomska (krzyżówka)')\n",
      "('leave line: 23', datetime.time(11, 3), 'at: Arkady (Capitol)')\n",
      "('enter line: D', datetime.time(11, 5), 'at: Arkady (Capitol)')\n",
      "('leave line: D', datetime.time(11, 16), 'at: PL. GRUNWALDZKI')\n",
      "('enter line: 1', datetime.time(11, 16), 'at: PL. GRUNWALDZKI')\n",
      "('leave line: 1', datetime.time(11, 18), 'at: Kliniki - Politechnika Wrocławska')\n",
      "('enter line: 115', datetime.time(11, 22), 'at: Kliniki - Politechnika Wrocławska')\n",
      "('leave line: 115', datetime.time(11, 33), 'at: Swojczyce')\n"
     ]
    },
    {
     "name": "stderr",
     "output_type": "stream",
     "text": [
      "Koszt  ('hours: ', 1, 'minutes: ', 10)\n",
      "Czas trwania  6.150092363357544\n"
     ]
    }
   ],
   "source": [
    "start = \"PORT LOTNICZY\"\n",
    "stop = \"Swojczyce\"\n",
    "start_time = datetime.time(10, 23, 0)\n",
    "\n",
    "(line, best_routes_df,algorithm_duration) = dijkstra(stop_graph, start, start_time)\n",
    "\n",
    "path = return_path_to_destination(start, stop, line, best_routes_df)\n",
    "print_path(path)\n",
    "total_cost = count_total_cost(line[stop]['arrival_time_seconds'], time_to_seconds(start_time))\n",
    "print(\"Koszt \",seconds_to_hour_and_minute(total_cost), file=sys.stderr)\n",
    "print(\"Czas trwania \",algorithm_duration, file=sys.stderr)"
   ]
  },
  {
   "cell_type": "code",
   "execution_count": 12,
   "id": "824f5f9d-72d8-4647-91ad-5c577d85e562",
   "metadata": {},
   "outputs": [],
   "source": [
    "# Algorytm A*\n",
    "from math import sqrt\n",
    "\n",
    "# Constants to estimate approximate time to destination\n",
    "average_speed_mpk_km_s = 16.6 / 3600  # average velocity in Wrocław [km/s]\n",
    "degrees_to_km = 111 \n",
    "\n",
    "def best_connection_min_time(schedule, current_time_seconds, current_cost, previous_connection=None):\n",
    "    best_connection = None\n",
    "    best_cost = float('inf')\n",
    "\n",
    "    for connection in schedule:\n",
    "        waiting_time = (connection['departure_time_seconds'] - current_time_seconds + DAY_SECONDS) % DAY_SECONDS\n",
    "        travel_time = (connection['arrival_time_seconds'] - connection['departure_time_seconds'] + DAY_SECONDS) % DAY_SECONDS\n",
    "        total_cost = current_cost + waiting_time + travel_time\n",
    "\n",
    "        if total_cost < best_cost:\n",
    "            best_cost = total_cost\n",
    "            best_connection = connection\n",
    "\n",
    "    return (best_connection, best_cost)\n",
    "\n",
    "def best_connection_min_transfers(schedule, current_time_seconds, current_cost, previous_connection):\n",
    "    previous_line = \"\"\n",
    "    if previous_connection:\n",
    "        previous_line = previous_connection['line']\n",
    "    best_connection = None\n",
    "    best_cost = float('inf')\n",
    "\n",
    "    for connection in schedule:\n",
    "        waiting_time = (connection['departure_time_seconds'] - current_time_seconds + 86400) % 86400\n",
    "        travel_time = ((connection['arrival_time_seconds'] - connection['departure_time_seconds'] + 86400) % 86400)\n",
    "        total_cost = current_cost + waiting_time + travel_time\n",
    "\n",
    "        if previous_line and connection['line'] != previous_line:\n",
    "            total_cost += 1000  # Penalizing for a line change\n",
    "\n",
    "        if best_cost > total_cost:\n",
    "            best_cost = total_cost\n",
    "            best_connection = connection\n",
    "\n",
    "    return (best_connection, best_cost)\n",
    "\n",
    "def h_manhattan(current_node, goal_node):\n",
    "    # Calculating Manhattan distance based on latitude and longitude\n",
    "    distance_km = degrees_to_km * sqrt((current_node['lat'] - goal_node['lat'])**2 + (current_node['lon'] - goal_node['lon'])**2)\n",
    "    return distance_km / average_speed_mpk_km_s\n",
    "\n",
    "def h_euclidean(current_node, goal_node):\n",
    "    # Calculating Euclidean distance for an approximation\n",
    "    distance_km = degrees_to_km * (abs(current_node['lat'] - goal_node['lat']) + abs(current_node['lon'] - goal_node['lon']))\n",
    "    return distance_km / average_speed_mpk_km_s\n",
    "\n",
    "def haversine(current_node, goal_node):\n",
    "    # Radius of the Earth in kilometers\n",
    "    R = 6371.0\n",
    "    \n",
    "    # Convert latitude and longitude from degrees to radians\n",
    "    lat1, lon1, lat2, lon2 = map(radians, [current_node['lat'], current_node['lon'], goal_node['lat'], goal_node['lon']])\n",
    "    \n",
    "    dlat = lat2 - lat1\n",
    "    dlon = lon2 - lon1\n",
    "    \n",
    "    a = sin(dlat / 2)**2 + cos(lat1) * cos(lat2) * sin(dlon / 2)**2\n",
    "    c = 2 * atan2(sqrt(a), sqrt(1 - a))\n",
    "    distance = R * c\n",
    "    \n",
    "    return distance / average_speed_mpk_km_s\n",
    "\n",
    "\n",
    "def astar(graph, start, end, time, h=h_euclidean, best_connection_function=best_connection_min_transfers):\n",
    "    algorithm_start_time = tm.time()\n",
    "\n",
    "    # Initialize all nodes in the graph with default g, h, and f values\n",
    "    for node in graph.nodes():\n",
    "        graph.nodes[node]['g'] = 0  # Cost from start to node\n",
    "        graph.nodes[node]['h'] = 0  # Heuristic estimate from node to end\n",
    "        graph.nodes[node]['f'] = 0  # Total cost (g + h)\n",
    "\n",
    "    # Creating DataFrame with unique stops as columns to store the outcomes\n",
    "    best_routes_df = pd.DataFrame(columns=graph.nodes)\n",
    "    best_routes_df.loc['min_cost'] = float('inf')  # Initialize min_cost for all nodes\n",
    "    best_routes_df.loc['previous_stop'] = \"\"  # To track the best path\n",
    "    best_routes_df.loc['arrival_time_seconds'] = None  # Store arrival times for best paths\n",
    "\n",
    "    # Setting initial values\n",
    "    current_time_seconds = time_to_seconds(time)\n",
    "    best_routes_df.loc['min_cost', start] = 0  # Start node has a cost of 0 to reach\n",
    "    best_routes_df.loc['best_arrival_time_seconds', start] = current_time_seconds\n",
    "\n",
    "    # Lists to track which stops have been checked or need to be checked\n",
    "    checked_stops = []  # Closed set\n",
    "    unchecked_stops = list(graph.nodes)  # Open set, initially contains all nodes\n",
    "\n",
    "    # Creating a dictionary to store the best connection for each stop\n",
    "    line = {node: None for node in graph.nodes}\n",
    "\n",
    "    while unchecked_stops:\n",
    "        current_stop = None\n",
    "        lowest_cost = float('inf')\n",
    "        \n",
    "        # Find the stop with the lowest f value (min_cost) among the unchecked stops\n",
    "        current_stop = min_cost(unchecked_stops, best_routes_df)\n",
    "        lowest_cost = best_routes_df.loc['min_cost', current_stop]\n",
    "        current_time_seconds = best_routes_df.loc['best_arrival_time_seconds', current_stop]\n",
    "\n",
    "        # Break if the end stop is reached\n",
    "        if current_stop == end:\n",
    "            break\n",
    "        \n",
    "        # Remove the current stop from unchecked_stops and add it to checked_stops\n",
    "        unchecked_stops.remove(current_stop)\n",
    "        checked_stops.append(current_stop)\n",
    "\n",
    "        # Explore all neighbors of the current stop\n",
    "        for neighbor in graph.neighbors(current_stop):\n",
    "            connection, cost = best_connection_function(graph[current_stop][neighbor]['schedule'], current_time_seconds, lowest_cost, line[current_stop])\n",
    "\n",
    "            # If a better path to the neighbor is found, update the best routes dataframe\n",
    "            if best_routes_df.loc['min_cost', neighbor] > cost:\n",
    "                best_routes_df.loc['min_cost', neighbor] = cost\n",
    "                best_routes_df.loc['previous_stop', neighbor] = current_stop\n",
    "                best_routes_df.loc['best_arrival_time_seconds', neighbor] = connection['arrival_time_seconds']\n",
    "                line[neighbor] = connection\n",
    "\n",
    "            # Update heuristic and total cost values for neighbors\n",
    "            if neighbor not in unchecked_stops and neighbor not in checked_stops:\n",
    "                unchecked_stops.append(neighbor)\n",
    "                graph.nodes[neighbor]['h'] = h(graph.nodes[neighbor], graph.nodes[end])\n",
    "                graph.nodes[neighbor]['g'] = graph.nodes[current_stop]['g'] + cost\n",
    "                graph.nodes[neighbor]['f'] = graph.nodes[neighbor]['g'] + graph.nodes[neighbor]['h']\n",
    "            elif graph.nodes[neighbor]['g'] > graph.nodes[current_stop]['g'] + cost:\n",
    "                graph.nodes[neighbor]['g'] = graph.nodes[current_stop]['g'] + cost\n",
    "                graph.nodes[neighbor]['f'] = graph.nodes[neighbor]['g'] + graph.nodes[neighbor]['h']\n",
    "                if neighbor in checked_stops:\n",
    "                    unchecked_stops.append(neighbor)\n",
    "                    checked_stops.remove(neighbor)\n",
    "\n",
    "    # Calculate the total duration of the algorithm execution\n",
    "    algorithm_duration = tm.time() - algorithm_start_time\n",
    "    return (line, best_routes_df, algorithm_duration)\n"
   ]
  },
  {
   "cell_type": "code",
   "execution_count": 13,
   "id": "5a41b0f7-f465-4174-a3f9-304146eadf71",
   "metadata": {},
   "outputs": [],
   "source": [
    "#A-star min time examples haversine"
   ]
  },
  {
   "cell_type": "code",
   "execution_count": 14,
   "id": "4a03ee0d-de6c-409c-8c47-f81d290a2d74",
   "metadata": {},
   "outputs": [
    {
     "name": "stdout",
     "output_type": "stream",
     "text": [
      "('enter line: 149', datetime.time(16, 59), 'at: Babimojska')\n",
      "('leave line: 149', datetime.time(17, 25), 'at: PL. GRUNWALDZKI')\n",
      "('enter line: 19', datetime.time(17, 25), 'at: PL. GRUNWALDZKI')\n",
      "('leave line: 19', datetime.time(17, 30), 'at: ZOO')\n",
      "('enter line: 2', datetime.time(17, 31), 'at: ZOO')\n",
      "('leave line: 2', datetime.time(17, 33), 'at: Tramwajowa')\n",
      "('enter line: 4', datetime.time(17, 33), 'at: Tramwajowa')\n",
      "('leave line: 143', datetime.time(17, 38), 'at: Biegasa')\n"
     ]
    },
    {
     "name": "stderr",
     "output_type": "stream",
     "text": [
      "Koszt  ('hours: ', 0, 'minutes: ', 40)\n",
      "Czas trwania  4.809890985488892\n"
     ]
    }
   ],
   "source": [
    "start = \"Babimojska\"\n",
    "stop = \"Biegasa\"\n",
    "start_time = datetime.time(16, 58, 0)\n",
    "\n",
    "(line, astar_best_routes_df,algorithm_duration) = astar(stop_graph, start, stop, start_time, h=haversine,best_connection_function=best_connection_min_time)\n",
    "path = return_path_to_destination(start, stop, line, astar_best_routes_df)\n",
    "print_path(path)\n",
    "\n",
    "\n",
    "total_cost = count_total_cost(line[stop]['arrival_time_seconds'], time_to_seconds(start_time))\n",
    "print(\"Koszt \",seconds_to_hour_and_minute(total_cost), file=sys.stderr)\n",
    "print(\"Czas trwania \",algorithm_duration, file=sys.stderr)"
   ]
  },
  {
   "cell_type": "code",
   "execution_count": 15,
   "id": "eed7381e-66c4-4701-acad-1f1eb28a0ffe",
   "metadata": {},
   "outputs": [
    {
     "name": "stdout",
     "output_type": "stream",
     "text": [
      "('enter line: 106', datetime.time(10, 29), 'at: PORT LOTNICZY')\n",
      "('leave line: 106', datetime.time(10, 42), 'at: MIŃSKA (Rondo Rotm. Pileckiego)')\n",
      "('enter line: 122', datetime.time(10, 42), 'at: MIŃSKA (Rondo Rotm. Pileckiego)')\n",
      "('leave line: 122', datetime.time(10, 46), 'at: Strzegomska (krzyżówka)')\n",
      "('enter line: 23', datetime.time(10, 47), 'at: Strzegomska (krzyżówka)')\n",
      "('leave line: 23', datetime.time(11, 3), 'at: Arkady (Capitol)')\n",
      "('enter line: D', datetime.time(11, 5), 'at: Arkady (Capitol)')\n",
      "('leave line: D', datetime.time(11, 16), 'at: PL. GRUNWALDZKI')\n",
      "('enter line: 1', datetime.time(11, 16), 'at: PL. GRUNWALDZKI')\n",
      "('leave line: 1', datetime.time(11, 18), 'at: Kliniki - Politechnika Wrocławska')\n",
      "('enter line: 115', datetime.time(11, 22), 'at: Kliniki - Politechnika Wrocławska')\n",
      "('leave line: 115', datetime.time(11, 33), 'at: Swojczyce')\n"
     ]
    },
    {
     "name": "stderr",
     "output_type": "stream",
     "text": [
      "Koszt  ('hours: ', 1, 'minutes: ', 10)\n",
      "Czas trwania  5.419087648391724\n"
     ]
    }
   ],
   "source": [
    "start = \"PORT LOTNICZY\"\n",
    "stop = \"Swojczyce\"\n",
    "start_time = datetime.time(10, 23, 0)\n",
    "\n",
    "(line, astar_best_routes_df,algorithm_duration) = astar(stop_graph, start, stop, start_time, h=haversine,best_connection_function=best_connection_min_time)\n",
    "path = return_path_to_destination(start, stop, line, astar_best_routes_df)\n",
    "print_path(path)\n",
    "\n",
    "\n",
    "total_cost = count_total_cost(line[stop]['arrival_time_seconds'], time_to_seconds(start_time))\n",
    "print(\"Koszt \",seconds_to_hour_and_minute(total_cost), file=sys.stderr)\n",
    "print(\"Czas trwania \",algorithm_duration, file=sys.stderr)"
   ]
  },
  {
   "cell_type": "code",
   "execution_count": 16,
   "id": "01d16c0c-0870-4668-bd6e-4e971918ea7f",
   "metadata": {},
   "outputs": [],
   "source": [
    "#A-start min transfer examples haversine"
   ]
  },
  {
   "cell_type": "code",
   "execution_count": 17,
   "id": "9fd291e1-bee0-40dd-8a02-fec7b7458ab4",
   "metadata": {},
   "outputs": [
    {
     "name": "stdout",
     "output_type": "stream",
     "text": [
      "('enter line: 149', datetime.time(16, 59), 'at: Babimojska')\n",
      "('leave line: 149', datetime.time(17, 15), 'at: Dworzec Główny (Dworcowa)')\n",
      "('enter line: 114', datetime.time(17, 19), 'at: Dworzec Główny (Dworcowa)')\n",
      "('leave line: 114', datetime.time(17, 28), 'at: Armii Krajowej')\n",
      "('enter line: 143', datetime.time(17, 35), 'at: Armii Krajowej')\n",
      "('leave line: 143', datetime.time(17, 39), 'at: Biegasa')\n"
     ]
    },
    {
     "name": "stderr",
     "output_type": "stream",
     "text": [
      "Koszt  ('hours: ', 0, 'minutes: ', 41)\n",
      "Czas trwania  4.071877717971802\n"
     ]
    }
   ],
   "source": [
    "start = \"Babimojska\"\n",
    "stop = \"Biegasa\"\n",
    "start_time = datetime.time(16, 58, 0)\n",
    "\n",
    "\n",
    "(line, astar_best_routes_df,algorithm_duration) = astar(stop_graph, start, stop, start_time, h=haversine,best_connection_function=best_connection_min_transfers)\n",
    "path = return_path_to_destination(start, stop, line, astar_best_routes_df)\n",
    "print_path(path)\n",
    "\n",
    "\n",
    "total_cost = count_total_cost(line[stop]['arrival_time_seconds'], time_to_seconds(start_time))\n",
    "print(\"Koszt \",seconds_to_hour_and_minute(total_cost), file=sys.stderr)\n",
    "print(\"Czas trwania \",algorithm_duration, file=sys.stderr)"
   ]
  },
  {
   "cell_type": "code",
   "execution_count": 18,
   "id": "8963d39a-184c-4bb9-800f-58e2f9cac9d3",
   "metadata": {},
   "outputs": [
    {
     "name": "stdout",
     "output_type": "stream",
     "text": [
      "('enter line: 106', datetime.time(10, 29), 'at: PORT LOTNICZY')\n",
      "('leave line: 106', datetime.time(11, 3), 'at: Renoma')\n",
      "('enter line: 17', datetime.time(11, 5), 'at: Renoma')\n",
      "('leave line: 17', datetime.time(11, 30), 'at: SĘPOLNO')\n",
      "('enter line: 115', datetime.time(11, 33), 'at: SĘPOLNO')\n",
      "('leave line: 115', datetime.time(11, 37), 'at: Swojczyce')\n"
     ]
    },
    {
     "name": "stderr",
     "output_type": "stream",
     "text": [
      "Koszt  ('hours: ', 1, 'minutes: ', 14)\n",
      "Czas trwania  5.234850168228149\n"
     ]
    }
   ],
   "source": [
    "start = \"PORT LOTNICZY\"\n",
    "stop = \"Swojczyce\"\n",
    "start_time = datetime.time(10, 23, 0)\n",
    "\n",
    "(line, astar_best_routes_df,algorithm_duration) = astar(stop_graph, start, stop, start_time, h=haversine,best_connection_function=best_connection_min_transfers)\n",
    "path = return_path_to_destination(start, stop, line, astar_best_routes_df)\n",
    "print_path(path)\n",
    "\n",
    "\n",
    "total_cost = count_total_cost(line[stop]['arrival_time_seconds'], time_to_seconds(start_time))\n",
    "print(\"Koszt \",seconds_to_hour_and_minute(total_cost), file=sys.stderr)\n",
    "print(\"Czas trwania \",algorithm_duration, file=sys.stderr)"
   ]
  },
  {
   "cell_type": "code",
   "execution_count": 19,
   "id": "54d1b1ac-b48a-44c2-b3a3-dfa56a8a8379",
   "metadata": {},
   "outputs": [],
   "source": [
    "#A-star min time examples euklides"
   ]
  },
  {
   "cell_type": "code",
   "execution_count": 20,
   "id": "8d9d2055-2c38-4f6b-94e2-c3ffa4587f76",
   "metadata": {},
   "outputs": [
    {
     "name": "stdout",
     "output_type": "stream",
     "text": [
      "('enter line: 149', datetime.time(16, 59), 'at: Babimojska')\n",
      "('leave line: 149', datetime.time(17, 25), 'at: PL. GRUNWALDZKI')\n",
      "('enter line: 19', datetime.time(17, 25), 'at: PL. GRUNWALDZKI')\n",
      "('leave line: 19', datetime.time(17, 30), 'at: ZOO')\n",
      "('enter line: 2', datetime.time(17, 31), 'at: ZOO')\n",
      "('leave line: 2', datetime.time(17, 33), 'at: Tramwajowa')\n",
      "('enter line: 4', datetime.time(17, 33), 'at: Tramwajowa')\n",
      "('leave line: 143', datetime.time(17, 38), 'at: Biegasa')\n"
     ]
    },
    {
     "name": "stderr",
     "output_type": "stream",
     "text": [
      "Koszt  ('hours: ', 0, 'minutes: ', 40)\n",
      "Czas trwania  4.924313068389893\n"
     ]
    }
   ],
   "source": [
    "start = \"Babimojska\"\n",
    "stop = \"Biegasa\"\n",
    "start_time = datetime.time(16, 58, 0)\n",
    "\n",
    "(line, astar_best_routes_df,algorithm_duration) = astar(stop_graph, start, stop, start_time, h=h_euclidean,best_connection_function=best_connection_min_time)\n",
    "path = return_path_to_destination(start, stop, line, astar_best_routes_df)\n",
    "print_path(path)\n",
    "\n",
    "\n",
    "total_cost = count_total_cost(line[stop]['arrival_time_seconds'], time_to_seconds(start_time))\n",
    "print(\"Koszt \",seconds_to_hour_and_minute(total_cost), file=sys.stderr)\n",
    "print(\"Czas trwania \",algorithm_duration, file=sys.stderr)"
   ]
  },
  {
   "cell_type": "code",
   "execution_count": 21,
   "id": "a3277342-b27c-474e-be15-479b4fa679be",
   "metadata": {},
   "outputs": [
    {
     "name": "stdout",
     "output_type": "stream",
     "text": [
      "('enter line: 106', datetime.time(10, 29), 'at: PORT LOTNICZY')\n",
      "('leave line: 106', datetime.time(10, 42), 'at: MIŃSKA (Rondo Rotm. Pileckiego)')\n",
      "('enter line: 122', datetime.time(10, 42), 'at: MIŃSKA (Rondo Rotm. Pileckiego)')\n",
      "('leave line: 122', datetime.time(10, 46), 'at: Strzegomska (krzyżówka)')\n",
      "('enter line: 23', datetime.time(10, 47), 'at: Strzegomska (krzyżówka)')\n",
      "('leave line: 23', datetime.time(11, 3), 'at: Arkady (Capitol)')\n",
      "('enter line: D', datetime.time(11, 5), 'at: Arkady (Capitol)')\n",
      "('leave line: D', datetime.time(11, 16), 'at: PL. GRUNWALDZKI')\n",
      "('enter line: 1', datetime.time(11, 16), 'at: PL. GRUNWALDZKI')\n",
      "('leave line: 1', datetime.time(11, 18), 'at: Kliniki - Politechnika Wrocławska')\n",
      "('enter line: 115', datetime.time(11, 22), 'at: Kliniki - Politechnika Wrocławska')\n",
      "('leave line: 115', datetime.time(11, 33), 'at: Swojczyce')\n"
     ]
    },
    {
     "name": "stderr",
     "output_type": "stream",
     "text": [
      "Koszt  ('hours: ', 1, 'minutes: ', 10)\n",
      "Czas trwania  5.516069650650024\n"
     ]
    }
   ],
   "source": [
    "start = \"PORT LOTNICZY\"\n",
    "stop = \"Swojczyce\"\n",
    "start_time = datetime.time(10, 23, 0)\n",
    "\n",
    "(line, astar_best_routes_df,algorithm_duration) = astar(stop_graph, start, stop, start_time, h=h_euclidean,best_connection_function=best_connection_min_time)\n",
    "path = return_path_to_destination(start, stop, line, astar_best_routes_df)\n",
    "print_path(path)\n",
    "\n",
    "\n",
    "total_cost = count_total_cost(line[stop]['arrival_time_seconds'], time_to_seconds(start_time))\n",
    "print(\"Koszt \",seconds_to_hour_and_minute(total_cost), file=sys.stderr)\n",
    "print(\"Czas trwania \",algorithm_duration, file=sys.stderr)"
   ]
  },
  {
   "cell_type": "code",
   "execution_count": 22,
   "id": "e7ac08e2-5187-4043-a849-6658c81feb21",
   "metadata": {},
   "outputs": [],
   "source": [
    "#A start min transfers euklides"
   ]
  },
  {
   "cell_type": "code",
   "execution_count": 23,
   "id": "95e77e5e-b4e7-4d9c-99b7-1011c25a09a5",
   "metadata": {},
   "outputs": [
    {
     "name": "stdout",
     "output_type": "stream",
     "text": [
      "('enter line: 149', datetime.time(16, 59), 'at: Babimojska')\n",
      "('leave line: 149', datetime.time(17, 15), 'at: Dworzec Główny (Dworcowa)')\n",
      "('enter line: 114', datetime.time(17, 19), 'at: Dworzec Główny (Dworcowa)')\n",
      "('leave line: 114', datetime.time(17, 28), 'at: Armii Krajowej')\n",
      "('enter line: 143', datetime.time(17, 35), 'at: Armii Krajowej')\n",
      "('leave line: 143', datetime.time(17, 39), 'at: Biegasa')\n"
     ]
    },
    {
     "name": "stderr",
     "output_type": "stream",
     "text": [
      "Koszt  ('hours: ', 0, 'minutes: ', 41)\n",
      "Czas trwania  4.126176357269287\n"
     ]
    }
   ],
   "source": [
    "start = \"Babimojska\"\n",
    "stop = \"Biegasa\"\n",
    "start_time = datetime.time(16, 58, 0)\n",
    "\n",
    "(line, astar_best_routes_df,algorithm_duration) = astar(stop_graph, start, stop, start_time, h=h_euclidean,best_connection_function=best_connection_min_transfers)\n",
    "path = return_path_to_destination(start, stop, line, astar_best_routes_df)\n",
    "print_path(path)\n",
    "\n",
    "\n",
    "total_cost = count_total_cost(line[stop]['arrival_time_seconds'], time_to_seconds(start_time))\n",
    "print(\"Koszt \",seconds_to_hour_and_minute(total_cost), file=sys.stderr)\n",
    "print(\"Czas trwania \",algorithm_duration, file=sys.stderr)"
   ]
  },
  {
   "cell_type": "code",
   "execution_count": 24,
   "id": "9f8727fe-e184-4e1d-9a5a-b0225a045197",
   "metadata": {},
   "outputs": [
    {
     "name": "stdout",
     "output_type": "stream",
     "text": [
      "('enter line: 106', datetime.time(10, 29), 'at: PORT LOTNICZY')\n",
      "('leave line: 106', datetime.time(11, 3), 'at: Renoma')\n",
      "('enter line: 17', datetime.time(11, 5), 'at: Renoma')\n",
      "('leave line: 17', datetime.time(11, 30), 'at: SĘPOLNO')\n",
      "('enter line: 115', datetime.time(11, 33), 'at: SĘPOLNO')\n",
      "('leave line: 115', datetime.time(11, 37), 'at: Swojczyce')\n"
     ]
    },
    {
     "name": "stderr",
     "output_type": "stream",
     "text": [
      "Koszt  ('hours: ', 1, 'minutes: ', 14)\n",
      "Czas trwania  5.233227491378784\n"
     ]
    }
   ],
   "source": [
    "start = \"PORT LOTNICZY\"\n",
    "stop = \"Swojczyce\"\n",
    "start_time = datetime.time(10, 23, 0)\n",
    "\n",
    "(line, astar_best_routes_df,algorithm_duration) = astar(stop_graph, start, stop, start_time, h=h_euclidean,best_connection_function=best_connection_min_transfers)\n",
    "path = return_path_to_destination(start, stop, line, astar_best_routes_df)\n",
    "print_path(path)\n",
    "\n",
    "\n",
    "total_cost = count_total_cost(line[stop]['arrival_time_seconds'], time_to_seconds(start_time))\n",
    "print(\"Koszt \",seconds_to_hour_and_minute(total_cost), file=sys.stderr)\n",
    "print(\"Czas trwania \",algorithm_duration, file=sys.stderr)"
   ]
  },
  {
   "cell_type": "code",
   "execution_count": 25,
   "id": "af289c6a-1749-49c5-b181-fb5957f6648d",
   "metadata": {},
   "outputs": [],
   "source": [
    "#A start min time manhattan"
   ]
  },
  {
   "cell_type": "code",
   "execution_count": 26,
   "id": "3d896f8c-9159-48a0-ab17-0d7ec1d97e7c",
   "metadata": {},
   "outputs": [
    {
     "name": "stdout",
     "output_type": "stream",
     "text": [
      "('enter line: 149', datetime.time(16, 59), 'at: Babimojska')\n",
      "('leave line: 149', datetime.time(17, 25), 'at: PL. GRUNWALDZKI')\n",
      "('enter line: 19', datetime.time(17, 25), 'at: PL. GRUNWALDZKI')\n",
      "('leave line: 19', datetime.time(17, 30), 'at: ZOO')\n",
      "('enter line: 2', datetime.time(17, 31), 'at: ZOO')\n",
      "('leave line: 2', datetime.time(17, 33), 'at: Tramwajowa')\n",
      "('enter line: 4', datetime.time(17, 33), 'at: Tramwajowa')\n",
      "('leave line: 143', datetime.time(17, 38), 'at: Biegasa')\n"
     ]
    },
    {
     "name": "stderr",
     "output_type": "stream",
     "text": [
      "Koszt  ('hours: ', 0, 'minutes: ', 40)\n",
      "Czas trwania  4.78825306892395\n"
     ]
    }
   ],
   "source": [
    "start = \"Babimojska\"\n",
    "stop = \"Biegasa\"\n",
    "start_time = datetime.time(16, 58, 0)\n",
    "\n",
    "(line, astar_best_routes_df,algorithm_duration) = astar(stop_graph, start, stop, start_time, h=h_manhattan,best_connection_function=best_connection_min_time)\n",
    "path = return_path_to_destination(start, stop, line, astar_best_routes_df)\n",
    "print_path(path)\n",
    "\n",
    "\n",
    "total_cost = count_total_cost(line[stop]['arrival_time_seconds'], time_to_seconds(start_time))\n",
    "print(\"Koszt \",seconds_to_hour_and_minute(total_cost), file=sys.stderr)\n",
    "print(\"Czas trwania \",algorithm_duration, file=sys.stderr)"
   ]
  },
  {
   "cell_type": "code",
   "execution_count": 27,
   "id": "e497797c-33eb-403c-b0f6-3596edc14ab6",
   "metadata": {},
   "outputs": [
    {
     "name": "stdout",
     "output_type": "stream",
     "text": [
      "('enter line: 106', datetime.time(10, 29), 'at: PORT LOTNICZY')\n",
      "('leave line: 106', datetime.time(10, 42), 'at: MIŃSKA (Rondo Rotm. Pileckiego)')\n",
      "('enter line: 122', datetime.time(10, 42), 'at: MIŃSKA (Rondo Rotm. Pileckiego)')\n",
      "('leave line: 122', datetime.time(10, 46), 'at: Strzegomska (krzyżówka)')\n",
      "('enter line: 23', datetime.time(10, 47), 'at: Strzegomska (krzyżówka)')\n",
      "('leave line: 23', datetime.time(11, 3), 'at: Arkady (Capitol)')\n",
      "('enter line: D', datetime.time(11, 5), 'at: Arkady (Capitol)')\n",
      "('leave line: D', datetime.time(11, 16), 'at: PL. GRUNWALDZKI')\n",
      "('enter line: 1', datetime.time(11, 16), 'at: PL. GRUNWALDZKI')\n",
      "('leave line: 1', datetime.time(11, 18), 'at: Kliniki - Politechnika Wrocławska')\n",
      "('enter line: 115', datetime.time(11, 22), 'at: Kliniki - Politechnika Wrocławska')\n",
      "('leave line: 115', datetime.time(11, 33), 'at: Swojczyce')\n"
     ]
    },
    {
     "name": "stderr",
     "output_type": "stream",
     "text": [
      "Koszt  ('hours: ', 1, 'minutes: ', 10)\n",
      "Czas trwania  5.456471920013428\n"
     ]
    }
   ],
   "source": [
    "start = \"PORT LOTNICZY\"\n",
    "stop = \"Swojczyce\"\n",
    "start_time = datetime.time(10, 23, 0)\n",
    "\n",
    "(line, astar_best_routes_df,algorithm_duration) = astar(stop_graph, start, stop, start_time, h=h_manhattan,best_connection_function=best_connection_min_time)\n",
    "path = return_path_to_destination(start, stop, line, astar_best_routes_df)\n",
    "print_path(path)\n",
    "\n",
    "\n",
    "total_cost = count_total_cost(line[stop]['arrival_time_seconds'], time_to_seconds(start_time))\n",
    "print(\"Koszt \",seconds_to_hour_and_minute(total_cost), file=sys.stderr)\n",
    "print(\"Czas trwania \",algorithm_duration, file=sys.stderr)"
   ]
  },
  {
   "cell_type": "code",
   "execution_count": 28,
   "id": "991b18a2-8612-4c0b-9af3-2cc14da60b38",
   "metadata": {},
   "outputs": [],
   "source": [
    "#A start min transfers manhattan"
   ]
  },
  {
   "cell_type": "code",
   "execution_count": 29,
   "id": "c53ee1cb-4a70-46b3-854c-16e8b439bcb2",
   "metadata": {},
   "outputs": [
    {
     "name": "stdout",
     "output_type": "stream",
     "text": [
      "('enter line: 149', datetime.time(16, 59), 'at: Babimojska')\n",
      "('leave line: 149', datetime.time(17, 15), 'at: Dworzec Główny (Dworcowa)')\n",
      "('enter line: 114', datetime.time(17, 19), 'at: Dworzec Główny (Dworcowa)')\n",
      "('leave line: 114', datetime.time(17, 28), 'at: Armii Krajowej')\n",
      "('enter line: 143', datetime.time(17, 35), 'at: Armii Krajowej')\n",
      "('leave line: 143', datetime.time(17, 39), 'at: Biegasa')\n"
     ]
    },
    {
     "name": "stderr",
     "output_type": "stream",
     "text": [
      "Koszt  ('hours: ', 0, 'minutes: ', 41)\n",
      "Czas trwania  4.224871873855591\n"
     ]
    }
   ],
   "source": [
    "start = \"Babimojska\"\n",
    "stop = \"Biegasa\"\n",
    "start_time = datetime.time(16, 58, 0)\n",
    "\n",
    "(line, astar_best_routes_df,algorithm_duration) = astar(stop_graph, start, stop, start_time, h=h_manhattan,best_connection_function=best_connection_min_transfers)\n",
    "path = return_path_to_destination(start, stop, line, astar_best_routes_df)\n",
    "print_path(path)\n",
    "\n",
    "\n",
    "total_cost = count_total_cost(line[stop]['arrival_time_seconds'], time_to_seconds(start_time))\n",
    "print(\"Koszt \",seconds_to_hour_and_minute(total_cost), file=sys.stderr)\n",
    "print(\"Czas trwania \",algorithm_duration, file=sys.stderr)"
   ]
  },
  {
   "cell_type": "code",
   "execution_count": 30,
   "id": "4a241cba-2811-4e21-bc1d-ddca5cbbb1b6",
   "metadata": {},
   "outputs": [
    {
     "name": "stdout",
     "output_type": "stream",
     "text": [
      "('enter line: 106', datetime.time(10, 29), 'at: PORT LOTNICZY')\n",
      "('leave line: 106', datetime.time(11, 3), 'at: Renoma')\n",
      "('enter line: 17', datetime.time(11, 5), 'at: Renoma')\n",
      "('leave line: 17', datetime.time(11, 30), 'at: SĘPOLNO')\n",
      "('enter line: 115', datetime.time(11, 33), 'at: SĘPOLNO')\n",
      "('leave line: 115', datetime.time(11, 37), 'at: Swojczyce')\n"
     ]
    },
    {
     "name": "stderr",
     "output_type": "stream",
     "text": [
      "Koszt  ('hours: ', 1, 'minutes: ', 14)\n",
      "Czas trwania  5.388409614562988\n"
     ]
    }
   ],
   "source": [
    "start = \"PORT LOTNICZY\"\n",
    "stop = \"Swojczyce\"\n",
    "start_time = datetime.time(10, 23, 0)\n",
    "\n",
    "(line, astar_best_routes_df,algorithm_duration) = astar(stop_graph, start, stop, start_time, h=h_manhattan,best_connection_function=best_connection_min_transfers)\n",
    "path = return_path_to_destination(start, stop, line, astar_best_routes_df)\n",
    "print_path(path)\n",
    "\n",
    "\n",
    "total_cost = count_total_cost(line[stop]['arrival_time_seconds'], time_to_seconds(start_time))\n",
    "print(\"Koszt \",seconds_to_hour_and_minute(total_cost), file=sys.stderr)\n",
    "print(\"Czas trwania \",algorithm_duration, file=sys.stderr)"
   ]
  },
  {
   "cell_type": "code",
   "execution_count": null,
   "id": "80c16363-3e2c-4391-b4ac-35648a7cdbde",
   "metadata": {},
   "outputs": [],
   "source": []
  }
 ],
 "metadata": {
  "kernelspec": {
   "display_name": "Python 3 (ipykernel)",
   "language": "python",
   "name": "python3"
  },
  "language_info": {
   "codemirror_mode": {
    "name": "ipython",
    "version": 3
   },
   "file_extension": ".py",
   "mimetype": "text/x-python",
   "name": "python",
   "nbconvert_exporter": "python",
   "pygments_lexer": "ipython3",
   "version": "3.12.2"
  }
 },
 "nbformat": 4,
 "nbformat_minor": 5
}
